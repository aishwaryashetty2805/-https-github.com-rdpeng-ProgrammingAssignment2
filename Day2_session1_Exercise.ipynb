{
  "nbformat": 4,
  "nbformat_minor": 0,
  "metadata": {
    "colab": {
      "name": "Day2_session1_Exercise.ipynb",
      "provenance": [],
      "collapsed_sections": [],
      "authorship_tag": "ABX9TyMeqEiFajMGpqDEZDRC13wZ",
      "include_colab_link": true
    },
    "kernelspec": {
      "name": "python3",
      "display_name": "Python 3"
    }
  },
  "cells": [
    {
      "cell_type": "markdown",
      "metadata": {
        "id": "view-in-github",
        "colab_type": "text"
      },
      "source": [
        "<a href=\"https://colab.research.google.com/github/aishwaryashetty2805/-https-github.com-rdpeng-ProgrammingAssignment2/blob/master/Day2_session1_Exercise.ipynb\" target=\"_parent\"><img src=\"https://colab.research.google.com/assets/colab-badge.svg\" alt=\"Open In Colab\"/></a>"
      ]
    },
    {
      "cell_type": "markdown",
      "metadata": {
        "id": "Qx5aG_Xg8PqO",
        "colab_type": "text"
      },
      "source": [
        "1.print multiples of 3 upto 200 using a list"
      ]
    },
    {
      "cell_type": "code",
      "metadata": {
        "id": "zu36yZmf8QnJ",
        "colab_type": "code",
        "colab": {
          "base_uri": "https://localhost:8080/",
          "height": 56
        },
        "outputId": "290b8ed2-d1a8-42f6-e6f8-ae7023c479cb"
      },
      "source": [
        "multiples = [n for n in range(1, 200) if n % 3 == 0]\n",
        "print(multiples)"
      ],
      "execution_count": null,
      "outputs": [
        {
          "output_type": "stream",
          "text": [
            "[3, 6, 9, 12, 15, 18, 21, 24, 27, 30, 33, 36, 39, 42, 45, 48, 51, 54, 57, 60, 63, 66, 69, 72, 75, 78, 81, 84, 87, 90, 93, 96, 99, 102, 105, 108, 111, 114, 117, 120, 123, 126, 129, 132, 135, 138, 141, 144, 147, 150, 153, 156, 159, 162, 165, 168, 171, 174, 177, 180, 183, 186, 189, 192, 195, 198]\n"
          ],
          "name": "stdout"
        }
      ]
    },
    {
      "cell_type": "markdown",
      "metadata": {
        "id": "DqMSZvgule6C",
        "colab_type": "text"
      },
      "source": [
        "\n",
        "2. print the nos only divisable by 5 and 7 between 1000 and 2000 using a list( both inclusive)\n"
      ]
    },
    {
      "cell_type": "code",
      "metadata": {
        "id": "pNBP02fHlfRv",
        "colab_type": "code",
        "colab": {
          "base_uri": "https://localhost:8080/",
          "height": 56
        },
        "outputId": "316db251-a246-4f03-da2e-b0c60e24b7d0"
      },
      "source": [
        "n=[]\n",
        "for no in range(1000, 2000):\n",
        "    if (no%7==0) and (no%5==0):\n",
        "        n.append(str(no))\n",
        "print (','.join(n))\n"
      ],
      "execution_count": null,
      "outputs": [
        {
          "output_type": "stream",
          "text": [
            "1015,1050,1085,1120,1155,1190,1225,1260,1295,1330,1365,1400,1435,1470,1505,1540,1575,1610,1645,1680,1715,1750,1785,1820,1855,1890,1925,1960,1995\n"
          ],
          "name": "stdout"
        }
      ]
    },
    {
      "cell_type": "markdown",
      "metadata": {
        "id": "Mk1rqPmrmR-g",
        "colab_type": "text"
      },
      "source": [
        "3.Add the n number of names in a list and print them alphabetically and reverse alphabetically."
      ]
    },
    {
      "cell_type": "code",
      "metadata": {
        "id": "iIwBWES8m4Da",
        "colab_type": "code",
        "colab": {
          "base_uri": "https://localhost:8080/",
          "height": 54
        },
        "outputId": "9b112ce2-723d-4bb6-8c8d-72a115dc40c5"
      },
      "source": [
        "list_alpha = ['hi' , 'hello', 'at', 'this', 'there', 'from']\n",
        "list_alpha.sort()\n",
        "print(\"In alphetic order:\",list_alpha)\n",
        "list_rever=['copy','paste','cut','but']\n",
        "list_rever.sort(reverse=True)\n",
        "print(\"In Reverse alphetic order:\",list_rever)"
      ],
      "execution_count": null,
      "outputs": [
        {
          "output_type": "stream",
          "text": [
            "In alphetic order: ['at', 'from', 'hello', 'hi', 'there', 'this']\n",
            "In Reverse alphetic order: ['paste', 'cut', 'copy', 'but']\n"
          ],
          "name": "stdout"
        }
      ]
    },
    {
      "cell_type": "markdown",
      "metadata": {
        "id": "r7Hv_8HRnnAw",
        "colab_type": "text"
      },
      "source": [
        "4.Print  perfect squares and divisible by 5 between 500 and 1000( (both inclusive) using list"
      ]
    },
    {
      "cell_type": "code",
      "metadata": {
        "id": "5XlnNEiMnr79",
        "colab_type": "code",
        "colab": {
          "base_uri": "https://localhost:8080/",
          "height": 36
        },
        "outputId": "e1d35b3a-4dc3-417d-e5cf-8194b6bbd6f7"
      },
      "source": [
        "def squares(a, b):\n",
        "    lists=[]\n",
        "    # Traverse through all numbers\n",
        "    for i in range (a,b+1):\n",
        "        j = 1;\n",
        "        while j*j <= i:\n",
        "            if j*j == i:\n",
        "                 lists.append(i)  \n",
        "            j = j+1\n",
        "        i = i+1\n",
        "    return lists\n",
        "print(squares(500, 1000))\n",
        "\n"
      ],
      "execution_count": null,
      "outputs": [
        {
          "output_type": "stream",
          "text": [
            "[529, 576, 625, 676, 729, 784, 841, 900, 961]\n"
          ],
          "name": "stdout"
        }
      ]
    },
    {
      "cell_type": "markdown",
      "metadata": {
        "id": "5oqD18PjpEc9",
        "colab_type": "text"
      },
      "source": [
        "5.Get  a string and store word by word as elements in a tuple and find the largest word in the  tuple and print it"
      ]
    },
    {
      "cell_type": "code",
      "metadata": {
        "id": "TeNI2u5VpFie",
        "colab_type": "code",
        "colab": {
          "base_uri": "https://localhost:8080/",
          "height": 73
        },
        "outputId": "151a2981-af71-43ad-aee1-87173896e1e3"
      },
      "source": [
        "txt = \"welcome to the python programming\"\n",
        "x = txt.split()\n",
        "print(x)\n",
        "max1=len(x[0])\n",
        "temp=x[0]\n",
        "for i in x:\n",
        "    if(len(i)>max1):\n",
        "       max1=len(i)\n",
        "       temp=i\n",
        "print(\"The word with the longest length is:\")\n",
        "print(temp) "
      ],
      "execution_count": null,
      "outputs": [
        {
          "output_type": "stream",
          "text": [
            "['welcome', 'to', 'the', 'python', 'programming']\n",
            "The word with the longest length is:\n",
            "programming\n"
          ],
          "name": "stdout"
        }
      ]
    },
    {
      "cell_type": "markdown",
      "metadata": {
        "id": "y0nepW5GrP1S",
        "colab_type": "text"
      },
      "source": [
        "6.Get rollno and marks (Rollno, mark) as list of tuples for n number of students through keyboard  and print them in marks descending order with rollno."
      ]
    },
    {
      "cell_type": "code",
      "metadata": {
        "id": "k7gVfHgdvQL2",
        "colab_type": "code",
        "colab": {}
      },
      "source": [
        "n = int(input(\"Enter n\"))\n",
        "lst = []\n",
        "#students=()\n",
        "#marks=()\n",
        "for num in range(n): \n",
        "     x=input(\"Enter name of student: \") \n",
        "     lst.append(x) \n",
        "     y=int(input(\"Enter marks of student: \") )\n",
        "     lst.append(y) \n",
        "list=tuple(lst)\n",
        "print(list)\n",
        "acc=tuple(sorted(list, key = lambda x: x[0]))\n",
        "print(acc)    \n",
        "#tup = [('rishav', 10), ('akash', 5), ('ram', 20), ('gaurav', 15)]  "
      ],
      "execution_count": null,
      "outputs": []
    },
    {
      "cell_type": "markdown",
      "metadata": {
        "id": "1UvgDxME7xBG",
        "colab_type": "text"
      },
      "source": [
        "7.Get name and salary (name, salary) as list of tuples for n number of employees through keyboard  and print them in name alphabetical order with salary"
      ]
    },
    {
      "cell_type": "code",
      "metadata": {
        "id": "HKKbVc3w72Rv",
        "colab_type": "code",
        "colab": {}
      },
      "source": [
        "def SortTuple(tup):   \n",
        "    tup.sort(key = lambda x: x[0])   \n",
        "    return tup    \n",
        "tup = [(\"ABC\", 28000), (\"DEF\", 30000), (\"UFG\", 29000), \n",
        "        (\"RET\", 21000)]          \n",
        "print(SortTuple(tup)) "
      ],
      "execution_count": null,
      "outputs": []
    }
  ]
}