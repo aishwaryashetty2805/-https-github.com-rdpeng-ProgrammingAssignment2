{
  "nbformat": 4,
  "nbformat_minor": 0,
  "metadata": {
    "colab": {
      "name": "Day2_session1_Exercise.ipynb",
      "provenance": [],
      "authorship_tag": "ABX9TyOWoFFSlFRdD6fbCFIfEMtV",
      "include_colab_link": true
    },
    "kernelspec": {
      "name": "python3",
      "display_name": "Python 3"
    }
  },
  "cells": [
    {
      "cell_type": "markdown",
      "metadata": {
        "id": "view-in-github",
        "colab_type": "text"
      },
      "source": [
        "<a href=\"https://colab.research.google.com/github/aishwaryashetty2805/-https-github.com-rdpeng-ProgrammingAssignment2/blob/master/Day2_session1_Exercise.ipynb\" target=\"_parent\"><img src=\"https://colab.research.google.com/assets/colab-badge.svg\" alt=\"Open In Colab\"/></a>"
      ]
    },
    {
      "cell_type": "markdown",
      "metadata": {
        "id": "Qx5aG_Xg8PqO",
        "colab_type": "text"
      },
      "source": [
        "1.print multiples of 3 upto 200 using a list"
      ]
    },
    {
      "cell_type": "code",
      "metadata": {
        "id": "zu36yZmf8QnJ",
        "colab_type": "code",
        "colab": {
          "base_uri": "https://localhost:8080/",
          "height": 136
        },
        "outputId": "f1c3ef0a-a923-4650-de85-cbbecb36a8e9"
      },
      "source": [
        "def multiple(m, n): \n",
        "       a = range(n, (m * n)+1, n) \n",
        "    print(*a) \n",
        "m = 4\n",
        "n = 3\n",
        "multiple(m, n) \n",
        "  \n"
      ],
      "execution_count": null,
      "outputs": [
        {
          "output_type": "error",
          "ename": "IndentationError",
          "evalue": "ignored",
          "traceback": [
            "\u001b[0;36m  File \u001b[0;32m\"<ipython-input-4-1a6448e8993a>\"\u001b[0;36m, line \u001b[0;32m3\u001b[0m\n\u001b[0;31m    print(*a)\u001b[0m\n\u001b[0m              ^\u001b[0m\n\u001b[0;31mIndentationError\u001b[0m\u001b[0;31m:\u001b[0m unindent does not match any outer indentation level\n"
          ]
        }
      ]
    },
    {
      "cell_type": "markdown",
      "metadata": {
        "id": "DqMSZvgule6C",
        "colab_type": "text"
      },
      "source": [
        "\n",
        "2. print the nos only divisable by 5 and 7 between 1000 and 2000 using a list( both inclusive)\n"
      ]
    },
    {
      "cell_type": "code",
      "metadata": {
        "id": "pNBP02fHlfRv",
        "colab_type": "code",
        "colab": {
          "base_uri": "https://localhost:8080/",
          "height": 56
        },
        "outputId": "917f7226-f114-4867-b4db-7073773e9a3b"
      },
      "source": [
        "n=[]\n",
        "for no in range(1000, 2000):\n",
        "    if (no%7==0) and (no%5==0):\n",
        "        n.append(str(no))\n",
        "print (','.join(n))\n"
      ],
      "execution_count": null,
      "outputs": [
        {
          "output_type": "stream",
          "text": [
            "1015,1050,1085,1120,1155,1190,1225,1260,1295,1330,1365,1400,1435,1470,1505,1540,1575,1610,1645,1680,1715,1750,1785,1820,1855,1890,1925,1960,1995\n"
          ],
          "name": "stdout"
        }
      ]
    },
    {
      "cell_type": "markdown",
      "metadata": {
        "id": "Mk1rqPmrmR-g",
        "colab_type": "text"
      },
      "source": [
        "3.Add the n number of names in a list and print them alphabetically and reverse alphabetically."
      ]
    },
    {
      "cell_type": "code",
      "metadata": {
        "id": "iIwBWES8m4Da",
        "colab_type": "code",
        "colab": {
          "base_uri": "https://localhost:8080/",
          "height": 54
        },
        "outputId": "9b112ce2-723d-4bb6-8c8d-72a115dc40c5"
      },
      "source": [
        "list_alpha = ['hi' , 'hello', 'at', 'this', 'there', 'from']\n",
        "list_alpha.sort()\n",
        "print(\"In alphetic order:\",list_alpha)\n",
        "list_rever=['copy','paste','cut','but']\n",
        "list_rever.sort(reverse=True)\n",
        "print(\"In Reverse alphetic order:\",list_rever)"
      ],
      "execution_count": null,
      "outputs": [
        {
          "output_type": "stream",
          "text": [
            "In alphetic order: ['at', 'from', 'hello', 'hi', 'there', 'this']\n",
            "In Reverse alphetic order: ['paste', 'cut', 'copy', 'but']\n"
          ],
          "name": "stdout"
        }
      ]
    },
    {
      "cell_type": "markdown",
      "metadata": {
        "id": "r7Hv_8HRnnAw",
        "colab_type": "text"
      },
      "source": [
        "4.Print  perfect squares and divisible by 5 between 500 and 1000( (both inclusive) using list"
      ]
    },
    {
      "cell_type": "code",
      "metadata": {
        "id": "5XlnNEiMnr79",
        "colab_type": "code",
        "colab": {}
      },
      "source": [
        ""
      ],
      "execution_count": null,
      "outputs": []
    },
    {
      "cell_type": "markdown",
      "metadata": {
        "id": "5oqD18PjpEc9",
        "colab_type": "text"
      },
      "source": [
        "5.Get  a string and store word by word as elements in a tuple and find the largest word in the  tuple and print it"
      ]
    },
    {
      "cell_type": "code",
      "metadata": {
        "id": "TeNI2u5VpFie",
        "colab_type": "code",
        "colab": {}
      },
      "source": [
        ""
      ],
      "execution_count": null,
      "outputs": []
    },
    {
      "cell_type": "markdown",
      "metadata": {
        "id": "y0nepW5GrP1S",
        "colab_type": "text"
      },
      "source": [
        "6.Get rollno and marks (Rollno, mark) as list of tuples for n number of students through keyboard  and print them in marks descending order with rollno."
      ]
    },
    {
      "cell_type": "code",
      "metadata": {
        "id": "k7gVfHgdvQL2",
        "colab_type": "code",
        "colab": {}
      },
      "source": [
        "wordFreq = [ ('the' , 34) , ('at' , 23), ('should' , 1) , ('from' , 3) ]\n",
        "wordFreq.sort()\n",
        "print(wordFreq)"
      ],
      "execution_count": null,
      "outputs": []
    }
  ]
}