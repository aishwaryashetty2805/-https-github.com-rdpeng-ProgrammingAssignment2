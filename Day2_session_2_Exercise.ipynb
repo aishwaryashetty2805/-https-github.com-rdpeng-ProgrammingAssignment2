{
  "nbformat": 4,
  "nbformat_minor": 0,
  "metadata": {
    "colab": {
      "name": "Day2_session 2_Exercise.ipynb",
      "provenance": [],
      "collapsed_sections": [],
      "authorship_tag": "ABX9TyNn5s0wxecq9xjEUc8rcmFC",
      "include_colab_link": true
    },
    "kernelspec": {
      "name": "python3",
      "display_name": "Python 3"
    }
  },
  "cells": [
    {
      "cell_type": "markdown",
      "metadata": {
        "id": "view-in-github",
        "colab_type": "text"
      },
      "source": [
        "<a href=\"https://colab.research.google.com/github/aishwaryashetty2805/-https-github.com-rdpeng-ProgrammingAssignment2/blob/master/Day2_session_2_Exercise.ipynb\" target=\"_parent\"><img src=\"https://colab.research.google.com/assets/colab-badge.svg\" alt=\"Open In Colab\"/></a>"
      ]
    },
    {
      "cell_type": "markdown",
      "metadata": {
        "id": "XINSzeN-mqFt",
        "colab_type": "text"
      },
      "source": [
        "1 Write a program to print the triangle "
      ]
    },
    {
      "cell_type": "code",
      "metadata": {
        "id": "CkOx8c4tmwTe",
        "colab_type": "code",
        "outputId": "b9ea66a6-d9d5-4d48-9ecf-0bda5dbeb95d",
        "colab": {
          "base_uri": "https://localhost:8080/",
          "height": 92
        }
      },
      "source": [
        "n=int(input(\"Enter number\"))\n",
        "for i in range(rows):\n",
        "    for column in range(1, stop):\n",
        "        print(currentNumber, end=' ')\n",
        "        currentNumber += 1\n",
        "    print(\"\")\n",
        "    stop += 1"
      ],
      "execution_count": 0,
      "outputs": [
        {
          "output_type": "stream",
          "text": [
            "1 \n",
            "2 3 \n",
            "4 5 6 \n",
            "7 8 9 10 \n"
          ],
          "name": "stdout"
        }
      ]
    },
    {
      "cell_type": "markdown",
      "metadata": {
        "id": "Re7jkE-3SfIe",
        "colab_type": "text"
      },
      "source": [
        "2 Enter number 4"
      ]
    },
    {
      "cell_type": "code",
      "metadata": {
        "id": "heRih_eRSffF",
        "colab_type": "code",
        "outputId": "75aaa217-94ea-409f-b18b-146227b0ad89",
        "colab": {
          "base_uri": "https://localhost:8080/",
          "height": 111
        }
      },
      "source": [
        "n=5;\n",
        "for i in range(n):\n",
        "    for j in range(i):\n",
        "        print ('* ', end=\"\")\n",
        "    print('')"
      ],
      "execution_count": 0,
      "outputs": [
        {
          "output_type": "stream",
          "text": [
            "\n",
            "* \n",
            "* * \n",
            "* * * \n",
            "* * * * \n"
          ],
          "name": "stdout"
        }
      ]
    },
    {
      "cell_type": "markdown",
      "metadata": {
        "id": "xLC3KrvqXvgc",
        "colab_type": "text"
      },
      "source": [
        "4.n=5"
      ]
    },
    {
      "cell_type": "code",
      "metadata": {
        "id": "0AENfOJdXv9l",
        "colab_type": "code",
        "colab": {
          "base_uri": "https://localhost:8080/",
          "height": 129
        },
        "outputId": "d93d9604-9a30-4c95-a2ce-1840900f0992"
      },
      "source": [
        "rows = 5\n",
        "for i in range(0, rows + 1):\n",
        "    for j in range(rows - i, 0, -1):\n",
        "        print(j, end=' ')\n",
        "    print()"
      ],
      "execution_count": 1,
      "outputs": [
        {
          "output_type": "stream",
          "text": [
            "5 4 3 2 1 \n",
            "4 3 2 1 \n",
            "3 2 1 \n",
            "2 1 \n",
            "1 \n",
            "\n"
          ],
          "name": "stdout"
        }
      ]
    },
    {
      "cell_type": "markdown",
      "metadata": {
        "id": "2NrrzPiMTG1d",
        "colab_type": "text"
      },
      "source": [
        "6 Find the length of a string without using len functions"
      ]
    },
    {
      "cell_type": "code",
      "metadata": {
        "id": "7KjeMGrITJxQ",
        "colab_type": "code",
        "outputId": "717eb5b5-c0ae-4bee-b3de-99efe822666c",
        "colab": {
          "base_uri": "https://localhost:8080/",
          "height": 36
        }
      },
      "source": [
        "def Length(string): \n",
        "    count = 0\n",
        "    for i in string: \n",
        "        count+= 1\n",
        "    return count \n",
        "string = \"hai\"\n",
        "print(Length(string)) "
      ],
      "execution_count": 0,
      "outputs": [
        {
          "output_type": "stream",
          "text": [
            "3\n"
          ],
          "name": "stdout"
        }
      ]
    },
    {
      "cell_type": "markdown",
      "metadata": {
        "id": "_c9dvalpTw9D",
        "colab_type": "text"
      },
      "source": [
        "7 Find the no of words and characters in a string"
      ]
    },
    {
      "cell_type": "code",
      "metadata": {
        "id": "u3KGxO5tTzeE",
        "colab_type": "code",
        "outputId": "dbe84109-52fc-49f8-f0ce-18e8e1abd73a",
        "colab": {
          "base_uri": "https://localhost:8080/",
          "height": 36
        }
      },
      "source": [
        "    sent = \"hello hai how are you\";  \n",
        "    wordCount = 0;  \n",
        "    for i in range(0, len(sent)-1):   \n",
        "        if(sent[i] == ' ' and sent[i+1].isalpha() and (i > 0)):  \n",
        "            wordCount = wordCount + 1;   \n",
        "    wordCount = wordCount + 1;  \n",
        "    print(\"Total number of words in the given string: \" + str(wordCount));  "
      ],
      "execution_count": 0,
      "outputs": [
        {
          "output_type": "stream",
          "text": [
            "Total number of words in the given string: 5\n"
          ],
          "name": "stdout"
        }
      ]
    },
    {
      "cell_type": "markdown",
      "metadata": {
        "id": "Pp-ISr8oU8po",
        "colab_type": "text"
      },
      "source": [
        "8 Find the no of occurrences of a word in a string\n",
        "\n"
      ]
    },
    {
      "cell_type": "code",
      "metadata": {
        "id": "YcwOtq0iU-ua",
        "colab_type": "code",
        "outputId": "e735d624-0275-4019-ed46-ca15ac5ebbfb",
        "colab": {
          "base_uri": "https://localhost:8080/",
          "height": 36
        }
      },
      "source": [
        "string = \"how are you?I am fine\"\n",
        "sub_string = \"are\"\n",
        "count = string.count(sub_string)\n",
        "print(\"The count is:\", count)"
      ],
      "execution_count": 0,
      "outputs": [
        {
          "output_type": "stream",
          "text": [
            "The count is: 1\n"
          ],
          "name": "stdout"
        }
      ]
    }
  ]
}