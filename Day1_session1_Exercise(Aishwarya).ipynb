{
  "nbformat": 4,
  "nbformat_minor": 0,
  "metadata": {
    "colab": {
      "name": "Day1_session1_Exercise.ipynb",
      "provenance": [],
      "collapsed_sections": [],
      "authorship_tag": "ABX9TyP6crxSBufe0AiOTmfbqodg",
      "include_colab_link": true
    },
    "kernelspec": {
      "name": "python3",
      "display_name": "Python 3"
    }
  },
  "cells": [
    {
      "cell_type": "markdown",
      "metadata": {
        "id": "view-in-github",
        "colab_type": "text"
      },
      "source": [
        "<a href=\"https://colab.research.google.com/github/aishwaryashetty2805/-https-github.com-rdpeng-ProgrammingAssignment2/blob/master/Day1_session1_Exercise(Aishwarya).ipynb\" target=\"_parent\"><img src=\"https://colab.research.google.com/assets/colab-badge.svg\" alt=\"Open In Colab\"/></a>"
      ]
    },
    {
      "cell_type": "markdown",
      "metadata": {
        "id": "m8_U4A4Z0L8c",
        "colab_type": "text"
      },
      "source": [
        "1.\tFind the compound interest for the given p,n,r : p(1+n*r/100)n  \n",
        "\n",
        "---\n",
        "\n"
      ]
    },
    {
      "cell_type": "code",
      "metadata": {
        "id": "MwygpIk80S2s",
        "colab_type": "code",
        "outputId": "9927da01-147e-46f0-e608-109a8de87fd7",
        "colab": {
          "base_uri": "https://localhost:8080/",
          "height": 92
        }
      },
      "source": [
        "\n",
        "p= int(input(\"Enter p\"))\n",
        "r= float(input(\"Enter rate\"))\n",
        "n= int(input(\"Enter time\"))\n",
        "\n",
        "CI= p* (pow((1 + r / 100), n))\n",
        "\n",
        "\n",
        "print('Compund Intrest {0}'.format(CI))\n"
      ],
      "execution_count": 0,
      "outputs": [
        {
          "output_type": "stream",
          "text": [
            "Enter p1200\n",
            "Enter rate5.4\n",
            "Enter time2\n",
            "Compund Intrest 1333.0992\n"
          ],
          "name": "stdout"
        }
      ]
    },
    {
      "cell_type": "markdown",
      "metadata": {
        "id": "tn-ELzNh3sh5",
        "colab_type": "text"
      },
      "source": [
        "2.\tConvert centegrade to farenheit  ( f= 9/5*c+32)"
      ]
    },
    {
      "cell_type": "code",
      "metadata": {
        "id": "dagtes2x3tT3",
        "colab_type": "code",
        "outputId": "d90ae74f-00b0-4898-dd36-ae9e003599d8",
        "colab": {
          "base_uri": "https://localhost:8080/",
          "height": 54
        }
      },
      "source": [
        "c= int(input(\"Enter celsius\"))\n",
        "f=(c*9/5)+32\n",
        "print('%0.3f celsius is equal to %0.3f Farenheit' %(c,f))"
      ],
      "execution_count": 0,
      "outputs": [
        {
          "output_type": "stream",
          "text": [
            "Enter celsius100\n",
            "100.000 celsius is equal to 212.000 Farenheit\n"
          ],
          "name": "stdout"
        }
      ]
    },
    {
      "cell_type": "markdown",
      "metadata": {
        "id": "FcjNMHWS_Dj4",
        "colab_type": "text"
      },
      "source": [
        "3.\tFind the greater of two nos "
      ]
    },
    {
      "cell_type": "code",
      "metadata": {
        "id": "ubh61ETy_Eux",
        "colab_type": "code",
        "outputId": "56cc28b1-e2c2-4714-a47a-563aab456e21",
        "colab": {
          "base_uri": "https://localhost:8080/",
          "height": 73
        }
      },
      "source": [
        "a=int(input(\"Enter a\"))\n",
        "b=int(input(\"Enter b\"))\n",
        "if a>b:\n",
        " large=a\n",
        "else:\n",
        " large=b\n",
        " print(\"Greater number is\",large)"
      ],
      "execution_count": 0,
      "outputs": [
        {
          "output_type": "stream",
          "text": [
            "Enter a12\n",
            "Enter b45\n",
            "Greater number is 45\n"
          ],
          "name": "stdout"
        }
      ]
    },
    {
      "cell_type": "markdown",
      "metadata": {
        "id": "GQiLxsKXFnFr",
        "colab_type": "text"
      },
      "source": [
        "4.\tWrite a program for finding surface areas of cylinder and cone (2*PI*r*r*h, 1/3*PI*r*r*h) using function."
      ]
    },
    {
      "cell_type": "code",
      "metadata": {
        "id": "oOMBAh-LFph8",
        "colab_type": "code",
        "colab": {
          "base_uri": "https://localhost:8080/",
          "height": 92
        },
        "outputId": "9473c5fc-bc37-40ac-f9b4-7a562db727b7"
      },
      "source": [
        "r=int(input(\"Enter radius\"))\n",
        "h=int(input(\"Enter height\"))\n",
        "PI=3.14\n",
        "scyl=2*PI*r*r*h\n",
        "scone=1/3*PI*r*r*h\n",
        "print(\"Surface area of cylinder\",scyl)\n",
        "print(\"Surface area of cone\",scone)"
      ],
      "execution_count": 35,
      "outputs": [
        {
          "output_type": "stream",
          "text": [
            "Enter radius2\n",
            "Enter height2\n",
            "Surface area of cylinder 50.24\n",
            "Surface area of cone 8.373333333333333\n"
          ],
          "name": "stdout"
        }
      ]
    },
    {
      "cell_type": "markdown",
      "metadata": {
        "id": "ui7S746O6gx0",
        "colab_type": "text"
      },
      "source": [
        "5.\tFind the greatest of four nos ( using ‘and’ operator)   using function."
      ]
    },
    {
      "cell_type": "code",
      "metadata": {
        "id": "M_RdiDQ06hUO",
        "colab_type": "code",
        "outputId": "c523c451-67b3-4d15-8f65-4ec11041afd5",
        "colab": {
          "base_uri": "https://localhost:8080/",
          "height": 111
        }
      },
      "source": [
        "n1=int(input(\"Enter number1\"))\n",
        "n2=int(input(\"Enter number2\"))\n",
        "n3=int(input(\"Enter number3\"))\n",
        "n4=int(input(\"Enter number4\"))\n",
        "if (n1 >= n2) and (n1 >= n3) and (n1 >= n4):\n",
        "   largest = n1\n",
        "elif (n2 >= n1) and (n2 >= n3)and (n2 >= n4):\n",
        "   largest = n2\n",
        "elif (n3 >= n1) and (n3 >= n2) and (n3 >= n4):\n",
        "   largest = n3\n",
        "else:\n",
        "   largest = n4\n",
        "\n",
        "print(\"The largest number is\", largest)\n"
      ],
      "execution_count": 0,
      "outputs": [
        {
          "output_type": "stream",
          "text": [
            "Enter number169\n",
            "Enter number234\n",
            "Enter number356\n",
            "Enter number412\n",
            "The largest number is 69\n"
          ],
          "name": "stdout"
        }
      ]
    },
    {
      "cell_type": "markdown",
      "metadata": {
        "id": "sbxyffKhKSkw",
        "colab_type": "text"
      },
      "source": [
        "6.\tWrite a  menu program to perform the operations ( ODDorEven, Factorial, ODDNoUptoN, PrimeUptoN ) using functions for two nos with  menu choice"
      ]
    },
    {
      "cell_type": "code",
      "metadata": {
        "id": "1jND2liTDE-y",
        "colab_type": "code",
        "colab": {
          "base_uri": "https://localhost:8080/",
          "height": 972
        },
        "outputId": "d78ac85d-f704-4159-cb69-c84bdefd9366"
      },
      "source": [
        "loop=1\n",
        "choice=0\n",
        "while loop == 1:\n",
        "   \n",
        "    print (\"your options are:\")\n",
        "    print (\" \")\n",
        "    print(\"1) ODD or EVEN\")\n",
        "    print(\"2) Factorial\")\n",
        "    print(\"3) ODD number upto N\")\n",
        "    print(\"4) Prime Number upto N\")       \n",
        "    try:\n",
        "        choice = int(input(\"Choose your option: \"))\n",
        "    except:\n",
        "        print('please enter a valid number for option')\n",
        "    print(\" \")\n",
        "    print(\" \")\n",
        "    if choice == 1:\n",
        "                  num = int(input(\"Enter a number:\"))\n",
        "                  if (num % 2) == 0:\n",
        "                     print(\"{0} is Even\",format(num))\n",
        "                  else:\n",
        "                     print(\"{0} is Odd\",format(num))\n",
        "    if choice == 2:\n",
        "                  n=int(input(\"Enter number\"))\n",
        "                  fact=1\n",
        "                  while(n>0):\n",
        "                           fact=fact*n\n",
        "                           n=n-1\n",
        "                           print(\"Factorial number of the number is:\")\n",
        "                           print(fact)\n",
        "    if choice == 3:\n",
        "                  N=int(input(\"Enter number N\"))\n",
        "                  for number in range(1, N + 1):\n",
        "                    if(number % 2 != 0):\n",
        "                      print(\"{0}\".format(number))\n",
        "      \n",
        "    if choice == 4:\n",
        "                    Start_no = 1\n",
        "                    no  = int(input(\"Enter the number: \"))\n",
        "                    print(\"Prime numbers between\", Start_no, \"and\", no, \"are:\")\n",
        "                    for num in range(Start_no, n + 1):   \n",
        "                        if num > 1:\n",
        "                            for i in range(2, int(num/2)+1):\n",
        "                                if (num % i) == 0:\n",
        "                                    break\n",
        "                            else:\n",
        "                                print(num)\n",
        "    else:\n",
        "                 print(\"please choice a valid option from 1 to 5\")\n",
        "                 choice=0\n"
      ],
      "execution_count": 0,
      "outputs": [
        {
          "output_type": "stream",
          "text": [
            "your options are:\n",
            " \n",
            "1) ODD or EVEN\n",
            "2) Factorial\n",
            "3) ODD number upto N\n",
            "4) Prime Number upto N\n",
            "Choose your option: 4\n",
            " \n",
            " \n",
            "Enter the number: 20\n",
            "Prime numbers between 1 and 20 are:\n",
            "2\n",
            "3\n",
            "5\n",
            "7\n",
            "11\n",
            "13\n",
            "17\n",
            "19\n",
            "your options are:\n",
            " \n",
            "1) ODD or EVEN\n",
            "2) Factorial\n",
            "3) ODD number upto N\n",
            "4) Prime Number upto N\n",
            "Choose your option: 3\n",
            " \n",
            " \n",
            "Enter number N6\n",
            "1\n",
            "3\n",
            "5\n",
            "please choice a valid option from 1 to 5\n",
            "your options are:\n",
            " \n",
            "1) ODD or EVEN\n",
            "2) Factorial\n",
            "3) ODD number upto N\n",
            "4) Prime Number upto N\n",
            "Choose your option: 5\n",
            " \n",
            " \n",
            "please choice a valid option from 1 to 5\n",
            "your options are:\n",
            " \n",
            "1) ODD or EVEN\n",
            "2) Factorial\n",
            "3) ODD number upto N\n",
            "4) Prime Number upto N\n"
          ],
          "name": "stdout"
        }
      ]
    }
  ]
}